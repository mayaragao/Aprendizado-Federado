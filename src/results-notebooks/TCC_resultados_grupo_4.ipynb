{
  "nbformat": 4,
  "nbformat_minor": 0,
  "metadata": {
    "colab": {
      "provenance": []
    },
    "kernelspec": {
      "name": "python3",
      "display_name": "Python 3"
    },
    "language_info": {
      "name": "python"
    }
  },
  "cells": [
    {
      "cell_type": "code",
      "execution_count": null,
      "metadata": {
        "id": "GotoL6u4v2D8"
      },
      "outputs": [],
      "source": [
        "import re\n",
        "import pandas as pd\n",
        "import matplotlib.pyplot as plt\n",
        "from numpy import mean, std, arange\n",
        "from math import sqrt"
      ]
    },
    {
      "cell_type": "markdown",
      "source": [
        "#### Leitura dos resultados do método original, sem amostragem:"
      ],
      "metadata": {
        "id": "aTllWt8770TY"
      }
    },
    {
      "cell_type": "code",
      "source": [
        "results1 = open(\"Resultado_cliente_7.txt\", 'r')\n",
        "results2 = open(\"Resultado_cliente_8.txt\", 'r')\n",
        "\n",
        "Lines1 = results1.readlines()\n",
        "Lines2 = results2.readlines()"
      ],
      "metadata": {
        "id": "skrjvTVs7x4N"
      },
      "execution_count": null,
      "outputs": []
    },
    {
      "cell_type": "code",
      "source": [
        "accuracies = [[],[]]\n",
        "losses = [[],[]]\n",
        "\n",
        "for line in Lines1:\n",
        "  if (not 'Epoch' in line) and (not 'ETA' in line) and (line != '\\n') and (not '=' in line) and  (not 'tensorflow' in line) and  (not 'flwr' in line) and  (not 'Classe' in line) and  (not 'venv' in line)and  (not 'TensorFlow' in line):\n",
        "    losses[0].append(float(line.split(':')[1][1:].split(' ')[0]))\n",
        "    accuracies[0].append(float(line.split(':')[2][1:].split(' ')[0]))\n",
        "for line in Lines2:\n",
        "  if (not 'Epoch' in line) and (not 'ETA' in line) and (line != '\\n') and (not '=' in line) and (not 'tensorflow' in line) and  (not 'flwr' in line) and  (not 'Classe' in line) and  (not 'venv' in line)and  (not 'TensorFlow' in line):\n",
        "    losses[1].append(float(line.split(':')[1][1:].split(' ')[0]))\n",
        "    accuracies[1].append(float(line.split(':')[2][1:].split(' ')[0]))"
      ],
      "metadata": {
        "id": "OTG-Hi2d8NQk"
      },
      "execution_count": null,
      "outputs": []
    },
    {
      "cell_type": "code",
      "source": [
        "accuracies[1]"
      ],
      "metadata": {
        "id": "8seCVVYG9sqB",
        "colab": {
          "base_uri": "https://localhost:8080/"
        },
        "outputId": "734bbbeb-0908-444e-b752-e891499eb0a7"
      },
      "execution_count": null,
      "outputs": [
        {
          "output_type": "execute_result",
          "data": {
            "text/plain": [
              "[0.6756,\n",
              " 0.829,\n",
              " 0.8272,\n",
              " 0.8,\n",
              " 0.8087,\n",
              " 0.7926,\n",
              " 0.8103,\n",
              " 0.8192,\n",
              " 0.8179,\n",
              " 0.8169,\n",
              " 0.8174,\n",
              " 0.8185,\n",
              " 0.8067,\n",
              " 0.7972,\n",
              " 0.8177,\n",
              " 0.8138,\n",
              " 0.819,\n",
              " 0.8115,\n",
              " 0.8274,\n",
              " 0.8136,\n",
              " 0.8159,\n",
              " 0.8105,\n",
              " 0.8087,\n",
              " 0.8164,\n",
              " 0.821,\n",
              " 0.8192,\n",
              " 0.8172,\n",
              " 0.8177,\n",
              " 0.8162,\n",
              " 0.8085,\n",
              " 0.8167,\n",
              " 0.8223,\n",
              " 0.8108,\n",
              " 0.8126,\n",
              " 0.8149,\n",
              " 0.8195,\n",
              " 0.8192,\n",
              " 0.8138,\n",
              " 0.8087,\n",
              " 0.8074,\n",
              " 0.8177,\n",
              " 0.8151,\n",
              " 0.8187,\n",
              " 0.8062,\n",
              " 0.8226,\n",
              " 0.8156,\n",
              " 0.8115,\n",
              " 0.8231,\n",
              " 0.829,\n",
              " 0.829,\n",
              " 0.8208,\n",
              " 0.8277,\n",
              " 0.8251,\n",
              " 0.8238,\n",
              " 0.8174,\n",
              " 0.8123,\n",
              " 0.8249,\n",
              " 0.8185,\n",
              " 0.8208,\n",
              " 0.8174,\n",
              " 0.8208,\n",
              " 0.819,\n",
              " 0.8177,\n",
              " 0.8208,\n",
              " 0.8254,\n",
              " 0.8077,\n",
              " 0.8151,\n",
              " 0.8177,\n",
              " 0.8174,\n",
              " 0.8249,\n",
              " 0.8149,\n",
              " 0.8105,\n",
              " 0.8126,\n",
              " 0.8051,\n",
              " 0.8144,\n",
              " 0.8215,\n",
              " 0.8182,\n",
              " 0.82,\n",
              " 0.8254,\n",
              " 0.8308,\n",
              " 0.8151,\n",
              " 0.8197,\n",
              " 0.8226,\n",
              " 0.8244,\n",
              " 0.8285,\n",
              " 0.8182,\n",
              " 0.8287,\n",
              " 0.8233,\n",
              " 0.8164,\n",
              " 0.8249,\n",
              " 0.8262,\n",
              " 0.8246,\n",
              " 0.8323,\n",
              " 0.8192,\n",
              " 0.8218,\n",
              " 0.8121,\n",
              " 0.8213,\n",
              " 0.8172,\n",
              " 0.8179,\n",
              " 0.82,\n",
              " 0.8179,\n",
              " 0.8156,\n",
              " 0.8092,\n",
              " 0.81,\n",
              " 0.8177,\n",
              " 0.8156,\n",
              " 0.8131,\n",
              " 0.8174,\n",
              " 0.821,\n",
              " 0.8105,\n",
              " 0.8169,\n",
              " 0.8156,\n",
              " 0.8195,\n",
              " 0.8144,\n",
              " 0.8092,\n",
              " 0.8097,\n",
              " 0.8079,\n",
              " 0.8138,\n",
              " 0.8205,\n",
              " 0.8187,\n",
              " 0.8182,\n",
              " 0.8164,\n",
              " 0.8279,\n",
              " 0.8203,\n",
              " 0.8236,\n",
              " 0.8223,\n",
              " 0.8179,\n",
              " 0.8205,\n",
              " 0.8208,\n",
              " 0.8192,\n",
              " 0.8182,\n",
              " 0.809,\n",
              " 0.8195,\n",
              " 0.8162,\n",
              " 0.8192,\n",
              " 0.8254,\n",
              " 0.8218,\n",
              " 0.8236,\n",
              " 0.8215,\n",
              " 0.8221,\n",
              " 0.8218,\n",
              " 0.8187,\n",
              " 0.8215,\n",
              " 0.8244,\n",
              " 0.8082,\n",
              " 0.8156,\n",
              " 0.8144,\n",
              " 0.8133,\n",
              " 0.8097,\n",
              " 0.8195,\n",
              " 0.8164,\n",
              " 0.8185,\n",
              " 0.8159,\n",
              " 0.8156,\n",
              " 0.8123,\n",
              " 0.8131,\n",
              " 0.8223,\n",
              " 0.8203,\n",
              " 0.8195,\n",
              " 0.8192,\n",
              " 0.8182,\n",
              " 0.8203,\n",
              " 0.8156,\n",
              " 0.8185,\n",
              " 0.8056,\n",
              " 0.8205,\n",
              " 0.8177,\n",
              " 0.8197,\n",
              " 0.8187,\n",
              " 0.8192,\n",
              " 0.8182,\n",
              " 0.819,\n",
              " 0.8182,\n",
              " 0.8159,\n",
              " 0.8164,\n",
              " 0.8213,\n",
              " 0.8174,\n",
              " 0.819,\n",
              " 0.8146,\n",
              " 0.8077,\n",
              " 0.8144,\n",
              " 0.8208,\n",
              " 0.8195,\n",
              " 0.8167,\n",
              " 0.8179,\n",
              " 0.8174,\n",
              " 0.8187,\n",
              " 0.8097,\n",
              " 0.8213,\n",
              " 0.8218,\n",
              " 0.8156,\n",
              " 0.8182,\n",
              " 0.8159,\n",
              " 0.8205,\n",
              " 0.8187,\n",
              " 0.8169,\n",
              " 0.8103,\n",
              " 0.81,\n",
              " 0.819,\n",
              " 0.8179,\n",
              " 0.8182,\n",
              " 0.8162,\n",
              " 0.8179,\n",
              " 0.8221,\n",
              " 0.821,\n",
              " 0.8213,\n",
              " 0.8138,\n",
              " 0.8238,\n",
              " 0.81,\n",
              " 0.8244,\n",
              " 0.8169,\n",
              " 0.8197,\n",
              " 0.8174,\n",
              " 0.8205,\n",
              " 0.8195,\n",
              " 0.8138,\n",
              " 0.8177,\n",
              " 0.8185,\n",
              " 0.8177,\n",
              " 0.8164,\n",
              " 0.821,\n",
              " 0.82,\n",
              " 0.8205,\n",
              " 0.8218,\n",
              " 0.8241,\n",
              " 0.8203,\n",
              " 0.8231,\n",
              " 0.8308,\n",
              " 0.8185,\n",
              " 0.8203,\n",
              " 0.819,\n",
              " 0.8192,\n",
              " 0.82,\n",
              " 0.8187,\n",
              " 0.8069,\n",
              " 0.82,\n",
              " 0.8277,\n",
              " 0.8267,\n",
              " 0.8179,\n",
              " 0.8241,\n",
              " 0.8169,\n",
              " 0.8167,\n",
              " 0.821,\n",
              " 0.8205,\n",
              " 0.8203,\n",
              " 0.8254,\n",
              " 0.8244,\n",
              " 0.8218,\n",
              " 0.821,\n",
              " 0.8172,\n",
              " 0.8218,\n",
              " 0.8087,\n",
              " 0.8103,\n",
              " 0.8131,\n",
              " 0.8141,\n",
              " 0.8123,\n",
              " 0.8146,\n",
              " 0.8082,\n",
              " 0.8108,\n",
              " 0.8108,\n",
              " 0.8118,\n",
              " 0.8128,\n",
              " 0.8115,\n",
              " 0.8136,\n",
              " 0.8156,\n",
              " 0.8141,\n",
              " 0.8033,\n",
              " 0.8185,\n",
              " 0.8144,\n",
              " 0.8123,\n",
              " 0.8192,\n",
              " 0.8138,\n",
              " 0.8136,\n",
              " 0.8074,\n",
              " 0.8095,\n",
              " 0.8103,\n",
              " 0.8085,\n",
              " 0.8095,\n",
              " 0.8077,\n",
              " 0.8108,\n",
              " 0.8172,\n",
              " 0.8079,\n",
              " 0.8203,\n",
              " 0.821,\n",
              " 0.8238,\n",
              " 0.8241,\n",
              " 0.8251,\n",
              " 0.8249,\n",
              " 0.8246,\n",
              " 0.8154,\n",
              " 0.8179,\n",
              " 0.8179,\n",
              " 0.8177,\n",
              " 0.8169,\n",
              " 0.8287,\n",
              " 0.8277,\n",
              " 0.8285,\n",
              " 0.8272,\n",
              " 0.8279,\n",
              " 0.8256,\n",
              " 0.8238,\n",
              " 0.82,\n",
              " 0.8223,\n",
              " 0.821,\n",
              " 0.8192,\n",
              " 0.8197,\n",
              " 0.8262,\n",
              " 0.8233,\n",
              " 0.8238,\n",
              " 0.8085,\n",
              " 0.8213,\n",
              " 0.8208,\n",
              " 0.8156,\n",
              " 0.8174,\n",
              " 0.8146,\n",
              " 0.8223,\n",
              " 0.8187,\n",
              " 0.8223,\n",
              " 0.8233,\n",
              " 0.82,\n",
              " 0.8185,\n",
              " 0.8149,\n",
              " 0.8154,\n",
              " 0.8115,\n",
              " 0.8213,\n",
              " 0.8205,\n",
              " 0.8231,\n",
              " 0.8223,\n",
              " 0.8213,\n",
              " 0.8254,\n",
              " 0.8256,\n",
              " 0.8238,\n",
              " 0.8223,\n",
              " 0.8179,\n",
              " 0.8172,\n",
              " 0.8221,\n",
              " 0.8192,\n",
              " 0.8195,\n",
              " 0.8221,\n",
              " 0.8251,\n",
              " 0.8254,\n",
              " 0.819,\n",
              " 0.8192,\n",
              " 0.8197,\n",
              " 0.8223,\n",
              " 0.8187,\n",
              " 0.8185,\n",
              " 0.8097,\n",
              " 0.8197,\n",
              " 0.8177,\n",
              " 0.8182,\n",
              " 0.8162,\n",
              " 0.8195,\n",
              " 0.8203,\n",
              " 0.8131,\n",
              " 0.8185,\n",
              " 0.819,\n",
              " 0.8197,\n",
              " 0.8167,\n",
              " 0.819,\n",
              " 0.8185,\n",
              " 0.8215,\n",
              " 0.8167,\n",
              " 0.8185,\n",
              " 0.8197,\n",
              " 0.8179,\n",
              " 0.8146,\n",
              " 0.8167,\n",
              " 0.8213,\n",
              " 0.8177,\n",
              " 0.8221,\n",
              " 0.8246,\n",
              " 0.8277,\n",
              " 0.8274,\n",
              " 0.829,\n",
              " 0.8295,\n",
              " 0.8313,\n",
              " 0.8292,\n",
              " 0.8318,\n",
              " 0.8308,\n",
              " 0.8318,\n",
              " 0.8321,\n",
              " 0.8285,\n",
              " 0.8223,\n",
              " 0.8251,\n",
              " 0.8264,\n",
              " 0.8259,\n",
              " 0.8269,\n",
              " 0.8149,\n",
              " 0.8221,\n",
              " 0.8221,\n",
              " 0.8226,\n",
              " 0.8215,\n",
              " 0.8213,\n",
              " 0.8218,\n",
              " 0.8213,\n",
              " 0.8221,\n",
              " 0.8215,\n",
              " 0.82,\n",
              " 0.82]"
            ]
          },
          "metadata": {},
          "execution_count": 4
        }
      ]
    },
    {
      "cell_type": "code",
      "source": [
        "x1Mean = mean(accuracies,axis=0);\n",
        "x1Interval = std(accuracies,axis=0)*1.96/sqrt(2);\n",
        "x = arange(len(x1Mean))"
      ],
      "metadata": {
        "id": "XmWo_v0Q8Q1w"
      },
      "execution_count": null,
      "outputs": []
    },
    {
      "cell_type": "markdown",
      "source": [
        "#### Leitura dos resultados do com amostragem de 325 elementos:"
      ],
      "metadata": {
        "id": "10em-lJm8DEm"
      }
    },
    {
      "cell_type": "code",
      "source": [
        "results1 = open(\"/content/Rand325/Resultado_cliente_7.txt\", 'r')\n",
        "results2 = open(\"/content/Rand325/Resultado_cliente_8.txt\", 'r')\n",
        "\n",
        "Lines1 = results1.readlines()\n",
        "Lines2 = results2.readlines()"
      ],
      "metadata": {
        "id": "ReVxmWmI-WXE"
      },
      "execution_count": null,
      "outputs": []
    },
    {
      "cell_type": "code",
      "source": [
        "accuracies = [[],[]]\n",
        "losses = [[],[]]\n",
        "\n",
        "for line in Lines1:\n",
        "  if (not 'Epoch' in line) and (not 'ETA' in line) and (line != '\\n') and (not '=' in line) and  (not 'tensorflow' in line) and  (not 'flwr' in line) and  (not 'Classe' in line) and  (not 'venv' in line)and  (not 'TensorFlow' in line):\n",
        "    losses[0].append(float(line.split(':')[1][1:].split(' ')[0]))\n",
        "    accuracies[0].append(float(line.split(':')[2][1:].split(' ')[0]))\n",
        "for line in Lines2:\n",
        "  if (not 'Epoch' in line) and (not 'ETA' in line) and (line != '\\n') and (not '=' in line) and (not 'tensorflow' in line) and  (not 'flwr' in line) and  (not 'Classe' in line) and  (not 'venv' in line)and  (not 'TensorFlow' in line):\n",
        "    losses[1].append(float(line.split(':')[1][1:].split(' ')[0]))\n",
        "    accuracies[1].append(float(line.split(':')[2][1:].split(' ')[0]))"
      ],
      "metadata": {
        "id": "WMFKbZXg-mRv"
      },
      "execution_count": null,
      "outputs": []
    },
    {
      "cell_type": "code",
      "source": [
        "x2Mean = mean(accuracies,axis=0);\n",
        "x2Interval = std(accuracies,axis=0)*1.96/sqrt(2);\n",
        "x2 = arange(len(x2Mean))"
      ],
      "metadata": {
        "id": "glyS3c0w-nml"
      },
      "execution_count": null,
      "outputs": []
    },
    {
      "cell_type": "markdown",
      "source": [
        "#### Leitura dos resultados do com amostragem de 1121 elementos:"
      ],
      "metadata": {
        "id": "is7P-Z6h8HPO"
      }
    },
    {
      "cell_type": "code",
      "source": [
        "results1 = open(\"/content/Rand1121/Resultado_cliente_7.txt\", 'r')\n",
        "results2 = open(\"/content/Rand1121/Resultado_cliente_8.txt\", 'r')\n",
        "\n",
        "Lines1 = results1.readlines()\n",
        "Lines2 = results2.readlines()"
      ],
      "metadata": {
        "id": "-PG3_-1X-rNt"
      },
      "execution_count": null,
      "outputs": []
    },
    {
      "cell_type": "code",
      "source": [
        "accuracies = [[],[]]\n",
        "losses = [[],[]]\n",
        "\n",
        "for line in Lines1:\n",
        "  if (not 'Epoch' in line) and (not 'ETA' in line) and (line != '\\n') and (not '=' in line) and  (not 'tensorflow' in line) and  (not 'flwr' in line) and  (not 'Classe' in line) and  (not 'venv' in line)and  (not 'TensorFlow' in line):\n",
        "    losses[0].append(float(line.split(':')[1][1:].split(' ')[0]))\n",
        "    accuracies[0].append(float(line.split(':')[2][1:].split(' ')[0]))\n",
        "for line in Lines2:\n",
        "  if (not 'Epoch' in line) and (not 'ETA' in line) and (line != '\\n') and (not '=' in line) and (not 'tensorflow' in line) and  (not 'flwr' in line) and  (not 'Classe' in line) and  (not 'venv' in line)and  (not 'TensorFlow' in line):\n",
        "    losses[1].append(float(line.split(':')[1][1:].split(' ')[0]))\n",
        "    accuracies[1].append(float(line.split(':')[2][1:].split(' ')[0]))"
      ],
      "metadata": {
        "id": "11AAhQ2k-vaU"
      },
      "execution_count": null,
      "outputs": []
    },
    {
      "cell_type": "code",
      "source": [
        "x3Mean = mean(accuracies,axis=0);\n",
        "x3Interval = std(accuracies,axis=0)*1.96/sqrt(2);\n",
        "x3 = arange(len(x3Mean))"
      ],
      "metadata": {
        "id": "YdDIrUyT-xcT"
      },
      "execution_count": null,
      "outputs": []
    },
    {
      "cell_type": "markdown",
      "source": [
        "#### Plotando os resultados no primeiro grupo"
      ],
      "metadata": {
        "id": "sX6g2h5E-115"
      }
    },
    {
      "cell_type": "code",
      "source": [
        "plt.figure(figsize=(10,6))\n",
        "plt.figure(figsize=(6,4))\n",
        "plt.plot(x, x1Mean, 'b-', label='Original: 2100 amostras')\n",
        "plt.fill_between(x, x1Mean - x1Interval, x1Mean + x1Interval, color='b', alpha=0.2)\n",
        "\n",
        "plt.plot(x2, x2Mean, 'g-',label='Proposta: 325 amostras aleatorias')\n",
        "plt.fill_between(x2, x2Mean - x2Interval, x2Mean + x2Interval, color='g', alpha=0.25)\n",
        "\n",
        "plt.plot(x3, x3Mean, 'r-',label='Proposta: 1121 amostras aleatorias')\n",
        "plt.fill_between(x3, x3Mean - x3Interval, x3Mean + x3Interval, color='r', alpha=0.4)\n",
        "\n",
        "plt.ylabel('Acurácia', fontsize=10)\n",
        "plt.title('Acurácias no quarto grupo')\n",
        "plt.xlabel('Época', fontsize=10)\n",
        "plt.legend()\n",
        "plt.show()"
      ],
      "metadata": {
        "colab": {
          "base_uri": "https://localhost:8080/",
          "height": 430
        },
        "id": "ZadBacgy-1fW",
        "outputId": "5c1169a0-1c36-4f43-f6b4-e17d57941439"
      },
      "execution_count": null,
      "outputs": [
        {
          "output_type": "display_data",
          "data": {
            "text/plain": [
              "<Figure size 1000x600 with 0 Axes>"
            ]
          },
          "metadata": {}
        },
        {
          "output_type": "display_data",
          "data": {
            "text/plain": [
              "<Figure size 600x400 with 1 Axes>"
            ],
            "image/png": "[encoded data removed]"
          },
          "metadata": {}
        }
      ]
    },
    {
      "cell_type": "markdown",
      "source": [
        "#### Leitura dos arquivos do servidor para obtenção do tempo de treinamento"
      ],
      "metadata": {
        "id": "TikdP3tcBXlZ"
      }
    },
    {
      "cell_type": "code",
      "source": [
        "from datetime import datetime"
      ],
      "metadata": {
        "id": "cJbo8YUHAu5b"
      },
      "execution_count": null,
      "outputs": []
    },
    {
      "cell_type": "code",
      "source": [
        "results1 = open(\"/content/Resultado_servidor_7_8.txt\", 'r')\n",
        "results2 = open(\"/content/Rand325/Resultado_servidor_7_8.txt\", 'r')\n",
        "results3 = open(\"/content/Rand1121/Resultado_servidor_7_8.txt\", 'r')\n",
        "\n",
        "Lines1 = results1.readlines()\n",
        "#Lines1 = results2.readlines()\n",
        "#results2 = open(\"/content/Rand325/Resultado_servidor_7_8.txt\", 'r')\n",
        "Lines2 = results2.readlines()\n",
        "Lines3 = results3.readlines()\n",
        "\n",
        "times = [[],[],[]]\n",
        "days = [[],[],[]]\n",
        "\n",
        "for line in Lines1:\n",
        "  if (line != '\\n') and ('evaluate_round' in line) and ('received' in line):\n",
        "    times[0].append( line.split(' ')[3].split(',')[0])\n",
        "    days[0].append(line.split(' ')[2])\n",
        "for line in Lines2:\n",
        "  if (line != '\\n') and ('evaluate_round' in line) and ('received' in line):\n",
        "    times[1].append( line.split(' ')[3].split(',')[0])\n",
        "    days[1].append(line.split(' ')[2])\n",
        "for line in Lines3:\n",
        "  if (line != '\\n') and ('evaluate_round' in line) and ('received' in line):\n",
        "    times[2].append( line.split(' ')[3].split(',')[0])\n",
        "    days[2].append(line.split(' ')[2])\n",
        "\n",
        "seconds = [[],[],[]]\n",
        "hours = [[],[],[]]\n",
        "\n",
        "print(len(times), len(times[0]))\n",
        "for i in range(0,len(times)):\n",
        "  for j in range(0, len(times[0])):\n",
        "\n",
        "    AcDepart = days[i][j] + ' ' + times[i][j]\n",
        "    AcDepart_ = datetime.strptime(AcDepart, '%Y-%m-%d %H:%M:%S')\n",
        "    AcArrival = days[i][0] + ' ' + times[i][0]\n",
        "    AcArrival_ = datetime.strptime(AcArrival, '%Y-%m-%d %H:%M:%S')\n",
        "    ActualSeconds = (AcDepart_ - AcArrival_).total_seconds()\n",
        "    ActualHours = ActualSeconds/3600\n",
        "    seconds[i].append(ActualSeconds)\n",
        "    hours[i].append(ActualHours)\n"
      ],
      "metadata": {
        "colab": {
          "base_uri": "https://localhost:8080/"
        },
        "id": "MyshW_FoBjNR",
        "outputId": "db6eaed2-3c4f-4bf7-faaa-217807ea4008"
      },
      "execution_count": null,
      "outputs": [
        {
          "output_type": "stream",
          "name": "stdout",
          "text": [
            "3 400\n"
          ]
        }
      ]
    },
    {
      "cell_type": "code",
      "source": [
        "for i in range(0,3):\n",
        "  print(seconds[i][-1])"
      ],
      "metadata": {
        "colab": {
          "base_uri": "https://localhost:8080/"
        },
        "id": "Phkpz0QGCzMu",
        "outputId": "4345913f-6b7f-41ef-95a3-fa001adca627"
      },
      "execution_count": null,
      "outputs": [
        {
          "output_type": "stream",
          "name": "stdout",
          "text": [
            "2516.0\n",
            "701.0\n",
            "1502.0\n"
          ]
        }
      ]
    },
    {
      "cell_type": "code",
      "source": [
        "x = [i for i in range(0, len(seconds[0]))]\n",
        "labels=['Original: 2100 amostras','Proposta: 325 amostras aleatorias', 'Proposta: 1121 amostras aleatorias' ]\n",
        "cor = ['b', 'g', 'r']\n",
        "\n",
        "plt.figure(figsize=(6,4))\n",
        "for i in range(0, len(seconds)):\n",
        "  plt.plot(x, seconds[i], color=cor[i],label=labels[i])\n",
        "plt.ylabel('Tempo (s)', fontsize=10)\n",
        "plt.title('Tempo de treinamento no quarto grupo')\n",
        "plt.xlabel('Época', fontsize=10)\n",
        "plt.legend()\n",
        "plt.show()\n",
        "\n"
      ],
      "metadata": {
        "colab": {
          "base_uri": "https://localhost:8080/",
          "height": 412
        },
        "id": "1OSBN2GSGpak",
        "outputId": "7ed6a2df-ebf7-4122-e471-4fbc632c6137"
      },
      "execution_count": null,
      "outputs": [
        {
          "output_type": "display_data",
          "data": {
            "text/plain": [
              "<Figure size 600x400 with 1 Axes>"
            ],
            "image/png": "[encoded data removed]"
          },
          "metadata": {}
        }
      ]
    }
  ]
}